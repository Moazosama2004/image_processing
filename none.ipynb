{
 "cells": [
  {
   "cell_type": "code",
   "execution_count": 4,
   "id": "ca5aac03",
   "metadata": {},
   "outputs": [],
   "source": [
    "# First import the libraries cv2 and matplotlib\n",
    "import cv2\n",
    "import numpy as np\n",
    "import matplotlib.pyplot as plt"
   ]
  },
  {
   "cell_type": "code",
   "execution_count": 5,
   "id": "b3f3922f",
   "metadata": {},
   "outputs": [],
   "source": [
    "# Read an image file using cv2\n",
    "img = cv2.imread(\"leo.png\")"
   ]
  },
  {
   "cell_type": "code",
   "execution_count": 6,
   "id": "80195f80",
   "metadata": {},
   "outputs": [],
   "source": [
    "# Show an image file using cv2\n",
    "cv2.imshow('Image',img)\n",
    "cv2.waitKey(0)\n",
    "cv2.destroyAllWindows()"
   ]
  },
  {
   "cell_type": "code",
   "execution_count": 7,
   "id": "321d7954",
   "metadata": {},
   "outputs": [],
   "source": [
    "# transform image to gray using numpy\n",
    "copy_img = np.copy(img)\n",
    "gray_img = cv2.cvtColor(copy_img,cv2.COLOR_RGB2GRAY)\n",
    "cv2.imshow('GRAY IMAGE',gray_img)\n",
    "cv2.waitKey(0)\n",
    "cv2.destroyAllWindows()"
   ]
  },
  {
   "cell_type": "code",
   "execution_count": 8,
   "id": "cadc75ba",
   "metadata": {},
   "outputs": [],
   "source": [
    "# Read an image file with transform it to gray using cv2 without using numpy\n",
    "img = cv2.imread(\"leo.png\",cv2.IMREAD_GRAYSCALE)\n",
    "cv2.imshow('GRAY IMAGE',img)\n",
    "cv2.waitKey(0)\n",
    "cv2.destroyAllWindows()"
   ]
  },
  {
   "cell_type": "code",
   "execution_count": null,
   "id": "86ad4e50",
   "metadata": {},
   "outputs": [],
   "source": []
  }
 ],
 "metadata": {
  "kernelspec": {
   "display_name": "Python 3 (ipykernel)",
   "language": "python",
   "name": "python3"
  },
  "language_info": {
   "codemirror_mode": {
    "name": "ipython",
    "version": 3
   },
   "file_extension": ".py",
   "mimetype": "text/x-python",
   "name": "python",
   "nbconvert_exporter": "python",
   "pygments_lexer": "ipython3",
   "version": "3.9.13"
  }
 },
 "nbformat": 4,
 "nbformat_minor": 5
}
