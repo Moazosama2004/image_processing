{
 "cells": [
  {
   "cell_type": "code",
   "execution_count": 1,
   "id": "7c0ed094",
   "metadata": {},
   "outputs": [],
   "source": [
    "# First import the libraries cv2 and matplotlib\n",
    "import cv2\n",
    "import numpy as np\n",
    "import matplotlib.pyplot as plt"
   ]
  },
  {
   "cell_type": "code",
   "execution_count": 2,
   "id": "555d139b",
   "metadata": {},
   "outputs": [],
   "source": [
    "cap = cv2.VideoCapture(0)\n",
    "while(True) :\n",
    "    #capture frame by frame  \n",
    "    # ret 1 or 0\n",
    "    # frame img(object)\n",
    "    ret , frame = cap.read()\n",
    "    \n",
    "    # our operations on the frame come here\n",
    "#     gray = cv2.cvtColor(frame , cv2.COLOR_BGR2GRAY)\n",
    "    \n",
    "    # Displaying the resulting frame \n",
    "    cv2.imshow('frame' , frame)\n",
    "    if cv2.waitKey(1) & 0xFF == ord('q') :\n",
    "        break\n",
    "cap.release()\n",
    "cv2.destroyAllWindows()"
   ]
  },
  {
   "cell_type": "markdown",
   "id": "ac1bdbce",
   "metadata": {},
   "source": [
    "# Playing Video from file\n",
    "we must install codex dll \n",
    "that's \"ffmpeg.dll\""
   ]
  },
  {
   "cell_type": "code",
   "execution_count": 3,
   "id": "7ff81d1b",
   "metadata": {},
   "outputs": [
    {
     "ename": "error",
     "evalue": "OpenCV(4.8.1) D:\\a\\opencv-python\\opencv-python\\opencv\\modules\\imgproc\\src\\color.cpp:182: error: (-215:Assertion failed) !_src.empty() in function 'cv::cvtColor'\n",
     "output_type": "error",
     "traceback": [
      "\u001b[1;31m---------------------------------------------------------------------------\u001b[0m",
      "\u001b[1;31merror\u001b[0m                                     Traceback (most recent call last)",
      "\u001b[1;32m~\\AppData\\Local\\Temp\\ipykernel_15944\\1520436175.py\u001b[0m in \u001b[0;36m<module>\u001b[1;34m\u001b[0m\n\u001b[0;32m      7\u001b[0m \u001b[1;33m\u001b[0m\u001b[0m\n\u001b[0;32m      8\u001b[0m     \u001b[1;31m# our operations on the frame come here\u001b[0m\u001b[1;33m\u001b[0m\u001b[1;33m\u001b[0m\u001b[0m\n\u001b[1;32m----> 9\u001b[1;33m     \u001b[0mgray\u001b[0m \u001b[1;33m=\u001b[0m \u001b[0mcv2\u001b[0m\u001b[1;33m.\u001b[0m\u001b[0mcvtColor\u001b[0m\u001b[1;33m(\u001b[0m\u001b[0mframe\u001b[0m \u001b[1;33m,\u001b[0m \u001b[0mcv2\u001b[0m\u001b[1;33m.\u001b[0m\u001b[0mCOLOR_BGR2GRAY\u001b[0m\u001b[1;33m)\u001b[0m\u001b[1;33m\u001b[0m\u001b[1;33m\u001b[0m\u001b[0m\n\u001b[0m\u001b[0;32m     10\u001b[0m \u001b[1;33m\u001b[0m\u001b[0m\n\u001b[0;32m     11\u001b[0m     \u001b[1;31m# Displaying the resulting frame\u001b[0m\u001b[1;33m\u001b[0m\u001b[1;33m\u001b[0m\u001b[0m\n",
      "\u001b[1;31merror\u001b[0m: OpenCV(4.8.1) D:\\a\\opencv-python\\opencv-python\\opencv\\modules\\imgproc\\src\\color.cpp:182: error: (-215:Assertion failed) !_src.empty() in function 'cv::cvtColor'\n"
     ]
    }
   ],
   "source": [
    "cap = cv2.VideoCapture(\"lol.mp4\")\n",
    "while(True) :\n",
    "    #capture frame by frame  \n",
    "    # ret 1 or 0\n",
    "    # frame img(object)\n",
    "    ret , frame = cap.read()\n",
    "    \n",
    "    # our operations on the frame come here\n",
    "    gray = cv2.cvtColor(frame , cv2.COLOR_BGR2GRAY)\n",
    "    \n",
    "    # Displaying the resulting frame \n",
    "    cv2.imshow('frame' , gray)\n",
    "    if cv2.waitKey(1) & 0xFF == ord('q') :\n",
    "        break\n",
    "cap.release()\n",
    "cv2.destroyAllWindows()"
   ]
  },
  {
   "cell_type": "markdown",
   "id": "907b3e0b",
   "metadata": {},
   "source": [
    "# Save Video "
   ]
  },
  {
   "cell_type": "code",
   "execution_count": 2,
   "id": "32161114",
   "metadata": {},
   "outputs": [],
   "source": [
    "cap = cv2.VideoCapture(0)\n",
    "\n",
    "fourcc = cv2.VideoWriter_fourcc(*'XVID')\n",
    "out = cv2.VideoWriter('output.mp4' , fourcc , 20.0 , (640,480))\n",
    "while(True) :\n",
    "    #capture frame by frame  \n",
    "    # ret 1 or 0\n",
    "    # frame img(object)\n",
    "    ret , frame = cap.read()\n",
    "    \n",
    "    if ret == True :\n",
    "        \n",
    "        #for fliping image 0 mean on x-axis \n",
    "        frame = cv2.flip(frame , 0)\n",
    "    \n",
    "        out.write(frame)\n",
    "        \n",
    "        # Displaying the resulting frame \n",
    "        cv2.imshow('frame' , frame)\n",
    "        if cv2.waitKey(1) & 0xFF == ord('q') :\n",
    "            break\n",
    "    else :\n",
    "        break\n",
    "   \n",
    "cap.release()\n",
    "out.release()\n",
    "cv2.destroyAllWindows()"
   ]
  },
  {
   "cell_type": "code",
   "execution_count": null,
   "id": "783e343f",
   "metadata": {},
   "outputs": [],
   "source": []
  }
 ],
 "metadata": {
  "kernelspec": {
   "display_name": "Python 3 (ipykernel)",
   "language": "python",
   "name": "python3"
  },
  "language_info": {
   "codemirror_mode": {
    "name": "ipython",
    "version": 3
   },
   "file_extension": ".py",
   "mimetype": "text/x-python",
   "name": "python",
   "nbconvert_exporter": "python",
   "pygments_lexer": "ipython3",
   "version": "3.9.13"
  }
 },
 "nbformat": 4,
 "nbformat_minor": 5
}
