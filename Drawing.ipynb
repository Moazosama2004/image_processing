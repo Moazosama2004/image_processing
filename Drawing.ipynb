{
 "cells": [
  {
   "cell_type": "code",
   "execution_count": 5,
   "id": "dddc8a11",
   "metadata": {},
   "outputs": [],
   "source": [
    "# First import the libraries cv2 and matplotlib\n",
    "import cv2\n",
    "import numpy as np\n",
    "import matplotlib.pyplot as plt"
   ]
  },
  {
   "cell_type": "code",
   "execution_count": 12,
   "id": "81007131",
   "metadata": {},
   "outputs": [],
   "source": [
    "# create a black image \n",
    "img = np.zeros((512,512,3),np.uint8)\n",
    "# Draw a line line(image_object , start_point , end_point , color_in_BGR , thickness) \n",
    "cv2.line(img , (10,10) , (502,502) , (255,255,255) , 5)\n",
    "cv2.imshow('frame' , img)\n",
    "cv2.waitKey(0)\n",
    "cv2.destroyAllWindows()"
   ]
  },
  {
   "cell_type": "code",
   "execution_count": 19,
   "id": "e6629875",
   "metadata": {},
   "outputs": [],
   "source": [
    "# create a black image \n",
    "img = np.zeros((512,512,3),np.uint8)\n",
    "# Draw a circle cicle(image_object , center_point , radius , color_in_BGR , thickness , fill or not) \n",
    "cv2.circle(img , (512//2,512//2) , 100 , (255,255,255),5,-1)\n",
    "cv2.imshow('frame' , img)\n",
    "cv2.waitKey(0)\n",
    "cv2.destroyAllWindows()"
   ]
  },
  {
   "cell_type": "code",
   "execution_count": 30,
   "id": "ca415e5a",
   "metadata": {},
   "outputs": [],
   "source": [
    "# create a black image \n",
    "img = np.zeros((512,512,3),np.uint8)\n",
    "# Draw a circle cicle(image_object , center_point , radius , color_in_BGR , thickness , fill or not) \n",
    "cv2.ellipse(img , (512//2,512//2) ,(512//2,512//2), 0,0,180 ,255,-1)\n",
    "cv2.imshow('frame' , img)\n",
    "cv2.waitKey(0)\n",
    "cv2.destroyAllWindows()"
   ]
  },
  {
   "cell_type": "code",
   "execution_count": null,
   "id": "ef48413a",
   "metadata": {},
   "outputs": [],
   "source": []
  }
 ],
 "metadata": {
  "kernelspec": {
   "display_name": "Python 3 (ipykernel)",
   "language": "python",
   "name": "python3"
  },
  "language_info": {
   "codemirror_mode": {
    "name": "ipython",
    "version": 3
   },
   "file_extension": ".py",
   "mimetype": "text/x-python",
   "name": "python",
   "nbconvert_exporter": "python",
   "pygments_lexer": "ipython3",
   "version": "3.9.13"
  }
 },
 "nbformat": 4,
 "nbformat_minor": 5
}
